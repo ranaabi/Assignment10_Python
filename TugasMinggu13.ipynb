{
  "nbformat": 4,
  "nbformat_minor": 0,
  "metadata": {
    "colab": {
      "name": "TugasMinggu13.ipynb",
      "provenance": [],
      "authorship_tag": "ABX9TyOCzCHn894bFuMiQZQy8172",
      "include_colab_link": true
    },
    "kernelspec": {
      "name": "python3",
      "display_name": "Python 3"
    }
  },
  "cells": [
    {
      "cell_type": "markdown",
      "metadata": {
        "id": "view-in-github",
        "colab_type": "text"
      },
      "source": [
        "<a href=\"https://colab.research.google.com/github/ranaabi/Assignment10_Python/blob/main/TugasMinggu13.ipynb\" target=\"_parent\"><img src=\"https://colab.research.google.com/assets/colab-badge.svg\" alt=\"Open In Colab\"/></a>"
      ]
    },
    {
      "cell_type": "markdown",
      "metadata": {
        "id": "15bGG8LdgNxJ"
      },
      "source": [
        "Rana Abi Prasuma 1101184152\r\n",
        "\r\n",
        "Tugas Python Minggu 13"
      ]
    },
    {
      "cell_type": "code",
      "metadata": {
        "id": "fwq7YpzCgJve"
      },
      "source": [
        "import numpy as np\r\n",
        "import matplotlib.pyplot as plt"
      ],
      "execution_count": 1,
      "outputs": []
    },
    {
      "cell_type": "code",
      "metadata": {
        "id": "UglDZABhgol2"
      },
      "source": [
        "def cos(frek,tipe,ht,hr,d):\r\n",
        "  #frek = frekuensi (MHz)\r\n",
        "  #tipe = urban, suburban, open\r\n",
        "  #ht = tinggi tower (meter)\r\n",
        "  #hr = tinggi user (meter)\r\n",
        "  #d = jarak (meter)\r\n",
        "  if frek in range(150,1501):\r\n",
        "    Ca=69.55\r\n",
        "    Cb=26.16\r\n",
        "  elif frek in range(1501,2001):\r\n",
        "    Ca=46.3\r\n",
        "    Cb=33.9   \r\n",
        "  if tipe=='urban' :\r\n",
        "    Cm=0\r\n",
        "  elif tipe=='suburban' :\r\n",
        "    Cm= -2*((np.log10((frek/28)**2))-5.4)\r\n",
        "  elif tipe=='open' :\r\n",
        "    Cm= -4.78*(np.log10(frek))+18.33*(np.log10(frek))-40.94\r\n",
        "  else :\r\n",
        "    Cm='tipe salah'\r\n",
        "    \r\n",
        "  ahr = (1.1*np.log10(frek)-0.7)*hr-(1.56*np.log10(frek)-1.8)\r\n",
        "  Lp = Ca+(Cb*np.log10(frek))-(13.83*np.log(ht))-ahr+((44.9-6.55*np.log10(ht))*np.log10(d))-Cm\r\n",
        "    \r\n",
        "  return Lp"
      ],
      "execution_count": 2,
      "outputs": []
    },
    {
      "cell_type": "markdown",
      "metadata": {
        "id": "K-NwJal5gxT7"
      },
      "source": [
        "Image 1 \r\n",
        "\r\n",
        "Urban"
      ]
    },
    {
      "cell_type": "code",
      "metadata": {
        "id": "6l8ZAAMBgtl0"
      },
      "source": [
        "f=1800 #MHz\r\n",
        "loc='urban'\r\n",
        "tower=80 #m\r\n",
        "user=1.5 #m\r\n",
        "dmin=200 #m\r\n",
        "dmax=700 #m\r\n",
        "N=200 #titik\r\n",
        "d=np.random.randint(dmin,dmax,N)"
      ],
      "execution_count": 3,
      "outputs": []
    },
    {
      "cell_type": "code",
      "metadata": {
        "id": "ILAx_DXlg3lK"
      },
      "source": [
        "LpUrban= cos(f,loc,tower,user,d)"
      ],
      "execution_count": 4,
      "outputs": []
    },
    {
      "cell_type": "code",
      "metadata": {
        "id": "Oq-gMQw8g6fp"
      },
      "source": [
        "d_sort_urban = d[np.argsort(d)]\r\n",
        "Urban_sort = LpUrban[np.argsort(d)]"
      ],
      "execution_count": 5,
      "outputs": []
    },
    {
      "cell_type": "markdown",
      "metadata": {
        "id": "f4Uyo7MXg-K4"
      },
      "source": [
        "Suburban"
      ]
    },
    {
      "cell_type": "code",
      "metadata": {
        "id": "hVwyk_5ihB7h"
      },
      "source": [
        "loc = 'suburban'\r\n",
        "LpSubUrban = cos(f,loc,tower,user,d)\r\n",
        "d_Sort_SubUrban = d[np.argsort(d)]\r\n",
        "Sub_Urban_Sort = LpSubUrban[np.argsort(d)]"
      ],
      "execution_count": 6,
      "outputs": []
    },
    {
      "cell_type": "markdown",
      "metadata": {
        "id": "LcvldNBJhF4w"
      },
      "source": [
        "Open"
      ]
    },
    {
      "cell_type": "code",
      "metadata": {
        "id": "eSpDHrhVhHQp"
      },
      "source": [
        "loc = 'open'\r\n",
        "LpOpen = cos(f,loc,tower,user,d)\r\n",
        "d_sort_open = d[np.argsort(d)]\r\n",
        "Open_sort = LpOpen[np.argsort(d)]"
      ],
      "execution_count": 7,
      "outputs": []
    },
    {
      "cell_type": "code",
      "metadata": {
        "colab": {
          "base_uri": "https://localhost:8080/",
          "height": 295
        },
        "id": "JKpS-uubhKM1",
        "outputId": "5ca157ba-c142-4046-f7ed-85f86df28d88"
      },
      "source": [
        "plt.figure()\r\n",
        "plt.plot(d_sort_urban,Urban_sort,'g', label='Urban')\r\n",
        "plt.plot(d_Sort_SubUrban,Sub_Urban_Sort,'r', label='SubUrban')\r\n",
        "plt.plot(d_sort_open,Open_sort,'b', label='Open')\r\n",
        "plt.legend()\r\n",
        "plt.title(\"Frekuensi 1800 MHz\")\r\n",
        "plt.xlabel(\"Jarak (m)\")\r\n",
        "plt.ylabel(\"Path Loss (dB)\")\r\n",
        "plt.show()"
      ],
      "execution_count": 8,
      "outputs": [
        {
          "output_type": "display_data",
          "data": {
            "image/png": "[encoded data removed]",
            "text/plain": [
              "<Figure size 432x288 with 1 Axes>"
            ]
          },
          "metadata": {
            "tags": [],
            "needs_background": "light"
          }
        }
      ]
    },
    {
      "cell_type": "markdown",
      "metadata": {
        "id": "0KpaJ-CahPiQ"
      },
      "source": [
        "Image 2"
      ]
    },
    {
      "cell_type": "code",
      "metadata": {
        "id": "yYRp9316hRVl"
      },
      "source": [
        "#700\r\n",
        "f= 700 #MHz\r\n",
        "loc='urban'\r\n",
        "tower=80 #m\r\n",
        "user=1.5 #m\r\n",
        "dmin=200 #m\r\n",
        "dmax=700 #m\r\n",
        "N=200 #titik\r\n",
        "d=np.random.randint(dmin,dmax,N)\r\n",
        "Lp7 = cos(f,loc,tower,user,d)\r\n",
        "sort7 = d[np.argsort(d)]\r\n",
        "urban1= Lp7[np.argsort(d)]\r\n",
        "\r\n",
        "#900\r\n",
        "f=900\r\n",
        "Lp9= cos(f,loc,tower,user,d)\r\n",
        "sort9 = d[np.argsort(d)]\r\n",
        "urban2 = Lp9[np.argsort(d)]\r\n",
        "\r\n",
        "#1800\r\n",
        "f=1800\r\n",
        "Lp18 = cos(f,loc,tower,user,d)\r\n",
        "sort18= d[np.argsort(d)]\r\n",
        "urban3 = Lp18[np.argsort(d)]"
      ],
      "execution_count": 9,
      "outputs": []
    },
    {
      "cell_type": "code",
      "metadata": {
        "colab": {
          "base_uri": "https://localhost:8080/",
          "height": 295
        },
        "id": "WX0vrduNhVAg",
        "outputId": "09d62056-c3e6-4cc0-8e8b-40ec34f6c55a"
      },
      "source": [
        "plt.figure()\r\n",
        "plt.plot(sort7,urban1,'g', label=\"700 MHz\")\r\n",
        "plt.plot(sort9,urban2,'b', label = \"900 MHz\")\r\n",
        "plt.plot(sort18,urban3,\"r\", label=\"1800 MHz\")\r\n",
        "plt.legend()\r\n",
        "plt.title(\"Urban\")\r\n",
        "plt.xlabel(\"Jarak (m)\")\r\n",
        "plt.ylabel(\"Path Loss (dB)\")\r\n",
        "plt.show()"
      ],
      "execution_count": 10,
      "outputs": [
        {
          "output_type": "display_data",
          "data": {
            "image/png": "[encoded data removed]",
            "text/plain": [
              "<Figure size 432x288 with 1 Axes>"
            ]
          },
          "metadata": {
            "tags": [],
            "needs_background": "light"
          }
        }
      ]
    }
  ]
}